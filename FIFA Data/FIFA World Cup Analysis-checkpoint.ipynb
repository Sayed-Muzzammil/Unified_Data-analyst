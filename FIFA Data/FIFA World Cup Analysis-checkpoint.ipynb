{
 "cells": [
  {
   "cell_type": "code",
   "execution_count": 3,
   "metadata": {},
   "outputs": [],
   "source": [
    "import pandas as pd\n"
   ]
  },
  {
   "cell_type": "code",
   "execution_count": 4,
   "metadata": {
    "scrolled": true
   },
   "outputs": [],
   "source": [
    "world_cups_df = pd.read_csv('C:\\\\Users\\\\Dell\\\\Desktop\\\\python_jupyter\\\\Worldcups.csv')\n",
    "matches_df = pd.read_csv('C:\\\\Users\\\\Dell\\\\Desktop\\\\python_jupyter\\\\WorldCupMatches.csv')\n",
    "players_df = pd.read_csv('C:\\\\Users\\\\Dell\\\\Desktop\\\\python_jupyter\\\\WorldCupPlayers.csv')\n"
   ]
  },
  {
   "cell_type": "code",
   "execution_count": 3,
   "metadata": {},
   "outputs": [
    {
     "name": "stdout",
     "output_type": "stream",
     "text": [
      "World Cups Dataset:\n",
      "   Year      Country      Winner      Runners-Up    Third      Fourth  \\\n",
      "0  1930      Uruguay     Uruguay       Argentina      USA  Yugoslavia   \n",
      "1  1934        Italy       Italy  Czechoslovakia  Germany     Austria   \n",
      "2  1938       France       Italy         Hungary   Brazil      Sweden   \n",
      "3  1950       Brazil     Uruguay          Brazil   Sweden       Spain   \n",
      "4  1954  Switzerland  Germany FR         Hungary  Austria     Uruguay   \n",
      "\n",
      "   GoalsScored  QualifiedTeams  MatchesPlayed Attendance  \n",
      "0           70              13             18    590.549  \n",
      "1           70              16             17    363.000  \n",
      "2           84              15             18    375.700  \n",
      "3           88              13             22  1.045.246  \n",
      "4          140              16             26    768.607  \n",
      "\n",
      "Matches Dataset:\n",
      "     Year              Datetime    Stage         Stadium         City  \\\n",
      "0  1930.0  13 Jul 1930 - 15:00   Group 1         Pocitos  Montevideo    \n",
      "1  1930.0  13 Jul 1930 - 15:00   Group 4  Parque Central  Montevideo    \n",
      "2  1930.0  14 Jul 1930 - 12:45   Group 2  Parque Central  Montevideo    \n",
      "3  1930.0  14 Jul 1930 - 14:50   Group 3         Pocitos  Montevideo    \n",
      "4  1930.0  15 Jul 1930 - 16:00   Group 1  Parque Central  Montevideo    \n",
      "\n",
      "  Home Team Name  Home Team Goals  Away Team Goals Away Team Name  \\\n",
      "0         France              4.0              1.0         Mexico   \n",
      "1            USA              3.0              0.0        Belgium   \n",
      "2     Yugoslavia              2.0              1.0         Brazil   \n",
      "3        Romania              3.0              1.0           Peru   \n",
      "4      Argentina              1.0              0.0         France   \n",
      "\n",
      "  Win conditions  Attendance  Half-time Home Goals  Half-time Away Goals  \\\n",
      "0                     4444.0                   3.0                   0.0   \n",
      "1                    18346.0                   2.0                   0.0   \n",
      "2                    24059.0                   2.0                   0.0   \n",
      "3                     2549.0                   1.0                   0.0   \n",
      "4                    23409.0                   0.0                   0.0   \n",
      "\n",
      "                  Referee               Assistant 1  \\\n",
      "0  LOMBARDI Domingo (URU)     CRISTOPHE Henry (BEL)   \n",
      "1       MACIAS Jose (ARG)  MATEUCCI Francisco (URU)   \n",
      "2     TEJADA Anibal (URU)   VALLARINO Ricardo (URU)   \n",
      "3   WARNKEN Alberto (CHI)       LANGENUS Jean (BEL)   \n",
      "4     REGO Gilberto (BRA)      SAUCEDO Ulises (BOL)   \n",
      "\n",
      "                  Assistant 2  RoundID  MatchID Home Team Initials  \\\n",
      "0         REGO Gilberto (BRA)    201.0   1096.0                FRA   \n",
      "1       WARNKEN Alberto (CHI)    201.0   1090.0                USA   \n",
      "2         BALWAY Thomas (FRA)    201.0   1093.0                YUG   \n",
      "3    MATEUCCI Francisco (URU)    201.0   1098.0                ROU   \n",
      "4  RADULESCU Constantin (ROU)    201.0   1085.0                ARG   \n",
      "\n",
      "  Away Team Initials  \n",
      "0                MEX  \n",
      "1                BEL  \n",
      "2                BRA  \n",
      "3                PER  \n",
      "4                FRA  \n",
      "\n",
      "Players Dataset:\n",
      "   RoundID  MatchID Team Initials           Coach Name Line-up  Shirt Number  \\\n",
      "0      201     1096           FRA  CAUDRON Raoul (FRA)       S             0   \n",
      "1      201     1096           MEX     LUQUE Juan (MEX)       S             0   \n",
      "2      201     1096           FRA  CAUDRON Raoul (FRA)       S             0   \n",
      "3      201     1096           MEX     LUQUE Juan (MEX)       S             0   \n",
      "4      201     1096           FRA  CAUDRON Raoul (FRA)       S             0   \n",
      "\n",
      "        Player Name Position Event  \n",
      "0       Alex THEPOT       GK   NaN  \n",
      "1   Oscar BONFIGLIO       GK   NaN  \n",
      "2  Marcel LANGILLER      NaN  G40'  \n",
      "3      Juan CARRENO      NaN  G70'  \n",
      "4   Ernest LIBERATI      NaN   NaN  \n"
     ]
    }
   ],
   "source": [
    "print(\"World Cups Dataset:\")\n",
    "print(world_cups_df.head())\n",
    "print(\"\\nMatches Dataset:\")\n",
    "print(matches_df.head())\n",
    "print(\"\\nPlayers Dataset:\")\n",
    "print(players_df.head())\n"
   ]
  },
  {
   "cell_type": "code",
   "execution_count": 4,
   "metadata": {},
   "outputs": [
    {
     "name": "stdout",
     "output_type": "stream",
     "text": [
      "\n",
      "Total Goals Scored in All World Cups: 2379\n",
      "Average Goals Scored per Match: 2.8456937799043063\n",
      "\n",
      "Teams with Most World Cup Wins:\n",
      "Brazil        5\n",
      "Italy         4\n",
      "Germany FR    3\n",
      "Uruguay       2\n",
      "Argentina     2\n",
      "Name: Winner, dtype: int64\n",
      "\n",
      "Home Win Percentage: 10.673665791776028\n",
      "\n",
      "Top Referees with Most Matches:\n",
      "Ravshan IRMATOV (UZB)     10\n",
      "RODRIGUEZ Marco (MEX)      8\n",
      "LARRIONDA Jorge (URU)      8\n",
      "ARCHUNDIA Benito (MEX)     8\n",
      "QUINIOU Joel (FRA)         8\n",
      "Name: Referee, dtype: int64\n"
     ]
    }
   ],
   "source": [
    "def analyze_world_cup_data(world_cups_df, matches_df, players_df):\n",
    "    total_goals_scored = world_cups_df['GoalsScored'].sum()\n",
    "    print(\"\\nTotal Goals Scored in All World Cups:\", total_goals_scored)\n",
    "    \n",
    "    # Average goals scored per match\n",
    "    total_matches_played = world_cups_df['MatchesPlayed'].sum()\n",
    "    average_goals_per_match = total_goals_scored / total_matches_played\n",
    "    print(\"Average Goals Scored per Match:\", average_goals_per_match)\n",
    "\n",
    "    # Teams with most wins\n",
    "    winner_counts = world_cups_df['Winner'].value_counts()\n",
    "    print(\"\\nTeams with Most World Cup Wins:\")\n",
    "    print(winner_counts.head())\n",
    "\n",
    "    # Home advantage analysis\n",
    "    home_wins = matches_df[matches_df['Home Team Goals'] > matches_df['Away Team Goals']]\n",
    "    home_win_percentage = len(home_wins) / len(matches_df) * 100\n",
    "    print(\"\\nHome Win Percentage:\", home_win_percentage)\n",
    "\n",
    "    # Referee analysis\n",
    "    referee_counts = matches_df['Referee'].value_counts()\n",
    "    top_referees = referee_counts.head()\n",
    "    print(\"\\nTop Referees with Most Matches:\")\n",
    "    print(top_referees)\n",
    "\n",
    "# Call the function to perform analysis\n",
    "analyze_world_cup_data(world_cups_df, matches_df,players_df)\n"
   ]
  },
  {
   "cell_type": "code",
   "execution_count": null,
   "metadata": {},
   "outputs": [],
   "source": []
  },
  {
   "cell_type": "code",
   "execution_count": null,
   "metadata": {},
   "outputs": [],
   "source": []
  }
 ],
 "metadata": {
  "kernelspec": {
   "display_name": "Python 3 (ipykernel)",
   "language": "python",
   "name": "python3"
  },
  "language_info": {
   "codemirror_mode": {
    "name": "ipython",
    "version": 3
   },
   "file_extension": ".py",
   "mimetype": "text/x-python",
   "name": "python",
   "nbconvert_exporter": "python",
   "pygments_lexer": "ipython3",
   "version": "3.12.4"
  }
 },
 "nbformat": 4,
 "nbformat_minor": 4
}
